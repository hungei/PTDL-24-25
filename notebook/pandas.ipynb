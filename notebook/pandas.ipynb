{
 "cells": [
  {
   "cell_type": "markdown",
   "metadata": {},
   "source": [
    "# Le Quoc Hung 22712771\n"
   ]
  },
  {
   "cell_type": "code",
   "execution_count": 21,
   "metadata": {},
   "outputs": [
    {
     "name": "stdout",
     "output_type": "stream",
     "text": [
      "0    1\n",
      "1    2\n",
      "2    3\n",
      "3    4\n",
      "dtype: int64\n"
     ]
    }
   ],
   "source": [
    "#k truyen index\n",
    "import pandas as pd\n",
    "s=pd.Series([1,2,3,4])\n",
    "print(s)"
   ]
  },
  {
   "cell_type": "code",
   "execution_count": 22,
   "metadata": {},
   "outputs": [
    {
     "name": "stdout",
     "output_type": "stream",
     "text": [
      "a    1\n",
      "b    2\n",
      "c    3\n",
      "d    4\n",
      "dtype: int64\n"
     ]
    }
   ],
   "source": [
    "#truyen index\n",
    "s=pd.Series([1,2,3,4],index=([\"a\",\"b\",\"c\",\"d\"]))\n",
    "print(s)"
   ]
  },
  {
   "cell_type": "code",
   "execution_count": 23,
   "metadata": {},
   "outputs": [
    {
     "name": "stdout",
     "output_type": "stream",
     "text": [
      "a    -1.3\n",
      "b    11.7\n",
      "c     NaN\n",
      "d     2.0\n",
      "dtype: float64\n"
     ]
    }
   ],
   "source": [
    "#tao series tu dict\n",
    "data={'a':-1.3,'b':11.7,'d':2.0}\n",
    "ser=pd.Series(data,index=['a','b','c','d'])\n",
    "print(ser)"
   ]
  },
  {
   "cell_type": "code",
   "execution_count": 24,
   "metadata": {},
   "outputs": [
    {
     "name": "stdout",
     "output_type": "stream",
     "text": [
      "1    5\n",
      "2    5\n",
      "3    5\n",
      "4    5\n",
      "5    5\n",
      "dtype: int64\n"
     ]
    }
   ],
   "source": [
    "#gia tri lap lai de phu hop do dai\n",
    "se=pd.Series(5,index=[1,2,3,4,5])\n",
    "print(se)"
   ]
  },
  {
   "cell_type": "code",
   "execution_count": 25,
   "metadata": {},
   "outputs": [
    {
     "name": "stdout",
     "output_type": "stream",
     "text": [
      "0    24\n",
      "1    41\n",
      "2    96\n",
      "3    23\n",
      "dtype: int32\n",
      "[24 41 96 23]\n",
      "RangeIndex(start=0, stop=4, step=1)\n"
     ]
    }
   ],
   "source": [
    "#tao du lieu \n",
    "import numpy as np\n",
    "S=pd.Series(np.random.randint(100,size=4))\n",
    "print(S)\n",
    "print(S.values)\n",
    "print(S.index)"
   ]
  },
  {
   "cell_type": "code",
   "execution_count": 26,
   "metadata": {},
   "outputs": [
    {
     "name": "stdout",
     "output_type": "stream",
     "text": [
      "ke toan    310\n",
      "KT         360\n",
      "CNTT       580\n",
      "Co khi     340\n",
      "dtype: int64\n",
      "Index(['ke toan', 'KT', 'CNTT', 'Co khi'], dtype='object')\n",
      "[310 360 580 340]\n"
     ]
    }
   ],
   "source": [
    "chi_so=[\"ke toan\",'KT','CNTT','Co khi']\n",
    "gia_tri=[310,360,580,340]\n",
    "S=pd.Series(gia_tri,index=chi_so)\n",
    "print(S)\n",
    "print(S.index)\n",
    "print(S.values)"
   ]
  },
  {
   "cell_type": "code",
   "execution_count": 27,
   "metadata": {},
   "outputs": [
    {
     "name": "stdout",
     "output_type": "stream",
     "text": [
      "KT        310\n",
      "KT        360\n",
      "CNTT      580\n",
      "Co khi    340\n",
      "dtype: int64\n",
      "Index(['KT', 'KT', 'CNTT', 'Co khi'], dtype='object')\n",
      "[310 360 580 340]\n"
     ]
    }
   ],
   "source": [
    "#chi so trung nhau\n",
    "chi_so=[\"KT\",'KT','CNTT','Co khi']\n",
    "gia_tri=[310,360,580,340]\n",
    "S=pd.Series(gia_tri,index=chi_so)\n",
    "print(S)\n",
    "print(S.index)\n",
    "print(S.values)"
   ]
  },
  {
   "cell_type": "code",
   "execution_count": 28,
   "metadata": {},
   "outputs": [
    {
     "name": "stdout",
     "output_type": "stream",
     "text": [
      "-1.3\n",
      "nan\n"
     ]
    }
   ],
   "source": [
    "#lay du lieu tai index cu the\n",
    "data={'a':-1.3,'b':11.7,'d':2.0}\n",
    "ser=pd.Series(data,index=['a','b','c','d'])\n",
    "print(ser['a'])\n",
    "print(ser['c'])"
   ]
  },
  {
   "cell_type": "code",
   "execution_count": 29,
   "metadata": {},
   "outputs": [
    {
     "name": "stdout",
     "output_type": "stream",
     "text": [
      "a    -1.3\n",
      "b    11.7\n",
      "dtype: float64\n"
     ]
    }
   ],
   "source": [
    "#lay du lieu tu dau den vi tri cu the\n",
    "data={'a':-1.3,'b':11.7,'d':2.0}\n",
    "ser=pd.Series(data,index=['a','b','c','d'])\n",
    "print(ser[:'b'])\n"
   ]
  },
  {
   "cell_type": "code",
   "execution_count": 30,
   "metadata": {},
   "outputs": [
    {
     "name": "stdout",
     "output_type": "stream",
     "text": [
      "a    -1.3\n",
      "b    11.7\n",
      "c     NaN\n",
      "dtype: float64\n"
     ]
    }
   ],
   "source": [
    "#lay 3 du lieu dau\n",
    "data={'a':-1.3,'b':11.7,'d':2.0}\n",
    "ser=pd.Series(data,index=['a','b','c','d'])\n",
    "print(ser[:3])"
   ]
  },
  {
   "cell_type": "code",
   "execution_count": 31,
   "metadata": {},
   "outputs": [
    {
     "name": "stdout",
     "output_type": "stream",
     "text": [
      "c    NaN\n",
      "d    2.0\n",
      "dtype: float64\n"
     ]
    }
   ],
   "source": [
    "#lay 2 du lieu cuoi\n",
    "data={'a':-1.3,'b':11.7,'d':2.0}\n",
    "ser=pd.Series(data,index=['a','b','c','d'])\n",
    "print(ser[2:])"
   ]
  },
  {
   "cell_type": "code",
   "execution_count": 32,
   "metadata": {},
   "outputs": [
    {
     "name": "stdout",
     "output_type": "stream",
     "text": [
      "[-1.3 11.7  nan  2. ]\n"
     ]
    }
   ],
   "source": [
    "#chuyen sang dang khac- lay dang array cua series bang numpy.array\n",
    "data={'a':-1.3,'b':11.7,'d':2.0}\n",
    "ser=pd.Series(data,index=['a','b','c','d'])\n",
    "a=np.array(ser)\n",
    "print(a)"
   ]
  },
  {
   "cell_type": "code",
   "execution_count": 33,
   "metadata": {},
   "outputs": [
    {
     "name": "stdout",
     "output_type": "stream",
     "text": [
      "340\n",
      "KT    310\n",
      "KT    360\n",
      "dtype: int64\n",
      "580\n"
     ]
    }
   ],
   "source": [
    "#truy xuat du lieu thong qua chi so\n",
    "chi_so=[\"KT\",'KT','CNTT','Co khi']\n",
    "gia_tri=[310,360,580,340]\n",
    "S=pd.Series(gia_tri,index=chi_so)\n",
    "print(S['Co khi'])\n",
    "print(S['KT'])\n",
    "print(S['CNTT'])"
   ]
  },
  {
   "cell_type": "code",
   "execution_count": 34,
   "metadata": {},
   "outputs": [
    {
     "name": "stdout",
     "output_type": "stream",
     "text": [
      "CNTT      680.0\n",
      "Co khi      NaN\n",
      "KT          NaN\n",
      "PM        460.0\n",
      "dtype: float64\n"
     ]
    }
   ],
   "source": [
    "#phep toan tren series\n",
    "chi_so=[\"KT\",'PM','CNTT','Co khi']\n",
    "gia_tri=[310,360,580,340]\n",
    "#chi so giong thi gop , neu khong thi nan\n",
    "S=pd.Series(gia_tri,index=chi_so)\n",
    "P=pd.Series([100,100],['CNTT','PM'])\n",
    "Y=P+S\n",
    "print(Y)\n"
   ]
  },
  {
   "cell_type": "code",
   "execution_count": 35,
   "metadata": {},
   "outputs": [
    {
     "name": "stdout",
     "output_type": "stream",
     "text": [
      "Ke toan    1310\n",
      "KT         1360\n",
      "CNTT        580\n",
      "Co khi     1340\n",
      "dtype: int64\n"
     ]
    }
   ],
   "source": [
    "#ham apply\n",
    "def Tang(x):\n",
    "    return x if x >500 else x+1000\n",
    "chi_so=['Ke toan','KT','CNTT','Co khi']\n",
    "gia_tri=[310,360,580,340]\n",
    "s=pd.Series(gia_tri,chi_so)\n",
    "#ap dung tang tren S (khong thay doi S)\n",
    "print(s.apply(Tang))"
   ]
  },
  {
   "cell_type": "code",
   "execution_count": 36,
   "metadata": {},
   "outputs": [
    {
     "name": "stdout",
     "output_type": "stream",
     "text": [
      "   mot  hai\n",
      "a  1.0  1.0\n",
      "b  2.0  2.0\n",
      "c  3.0  3.0\n",
      "d  NaN  4.0\n",
      "e  5.0  NaN\n"
     ]
    }
   ],
   "source": [
    "#tao data frame\n",
    "#tao dict tu series\n",
    "s={'mot': pd.Series([1,2,3,5],index=['a','b','c','e']),'hai': pd.Series([1,2,3,4],index=['a','b','c','d'])}\n",
    "#tao data fr tu dict\n",
    "df=pd.DataFrame(s)\n",
    "print(df)"
   ]
  },
  {
   "cell_type": "code",
   "execution_count": 37,
   "metadata": {},
   "outputs": [
    {
     "name": "stdout",
     "output_type": "stream",
     "text": [
      "   mot  hai\n",
      "a  1.0    1\n",
      "c  3.0    3\n",
      "d  NaN    4\n"
     ]
    }
   ],
   "source": [
    "\n",
    "#tao dict tu series\n",
    "s={'mot': pd.Series([1,2,3,5],index=['a','b','c','e']),'hai': pd.Series([1,2,3,4],index=['a','b','c','d'])}\n",
    "#tao data fr tu dict theo index duoc chon\n",
    "df=pd.DataFrame(s,index=['a','c','d'])\n",
    "print(df)"
   ]
  },
  {
   "cell_type": "code",
   "execution_count": 38,
   "metadata": {},
   "outputs": [
    {
     "name": "stdout",
     "output_type": "stream",
     "text": [
      "          0\n",
      "0       MIT\n",
      "1  Stanford\n",
      "2      DHTL\n",
      "          0  1\n",
      "0       MIT  1\n",
      "1  Stanford  2\n",
      "2      DHTL  3\n"
     ]
    }
   ],
   "source": [
    "#tao df tu list\n",
    "names=['MIT','Stanford','DHTL']\n",
    "df=pd.DataFrame(names)\n",
    "print(df)\n",
    "names_rank=[['MIT',1],['Stanford',2],['DHTL',3]]\n",
    "df=pd.DataFrame(names_rank)\n",
    "print(df)"
   ]
  },
  {
   "cell_type": "code",
   "execution_count": 39,
   "metadata": {},
   "outputs": [
    {
     "name": "stdout",
     "output_type": "stream",
     "text": [
      "   Year  Population    Total  Violent\n",
      "0  1960   179323175  3384200   288460\n",
      "1  1961   182992000  3488000   289390\n",
      "2  1962   185771000  3752200   301510\n",
      "3  1963   188483000  4109500   316970\n",
      "4  1964   191141000  4564600   364220\n"
     ]
    }
   ],
   "source": [
    "#tao df tu dict  cac list\n",
    "crimes_rates = {\n",
    "\"Year\":[1960,1961,1962,1963,1964],\"Population\":[179323175,182992000,185771000,188483000,191141000],\"Total\":[3384200,3488000,3752200,4109500,4564600],\n",
    "\"Violent\":[288460,289390,301510,316970,364220] }\n",
    "crimes_dataframe = pd.DataFrame(crimes_rates)\n",
    "print(crimes_dataframe)"
   ]
  },
  {
   "cell_type": "code",
   "execution_count": 40,
   "metadata": {},
   "outputs": [
    {
     "name": "stdout",
     "output_type": "stream",
     "text": [
      "                MIT  Stanford   DHTL\n",
      "NumOfStudents  5000      4500  15000\n",
      "ranking           1         2    200\n",
      "int64\n"
     ]
    }
   ],
   "source": [
    "#tao df tu list cac dict\n",
    "data = [ {'MIT': 5000, 'Stanford': 4500, \"DHTL\":15000},\n",
    "{'MIT': 1, 'Stanford': 2, \"DHTL\":200} ]\n",
    "df = pd.DataFrame(data, index=['NumOfStudents', \"ranking\"])\n",
    "print(df)\n",
    "print(df.DHTL.dtype)"
   ]
  },
  {
   "cell_type": "code",
   "execution_count": 41,
   "metadata": {},
   "outputs": [
    {
     "name": "stdout",
     "output_type": "stream",
     "text": [
      "    one   two\n",
      "1   1.0  1000\n",
      "2  23.0  2400\n",
      "3  45.0  1132\n",
      "4   NaN  3434\n"
     ]
    }
   ],
   "source": [
    "#tao df tu dict series\n",
    "data = { \"one\": pd.Series([1,23,45], index = [1,2,3]),\n",
    "\"two\": pd.Series([1000,2400,1132,3434], index = [1,2,3,4]) }\n",
    "df = pd.DataFrame(data)\n",
    "print(df)"
   ]
  },
  {
   "cell_type": "code",
   "execution_count": 42,
   "metadata": {},
   "outputs": [
    {
     "name": "stdout",
     "output_type": "stream",
     "text": [
      "a    1.0\n",
      "b    2.0\n",
      "c    3.0\n",
      "d    4.0\n",
      "e    NaN\n",
      "Name: hai, dtype: float64\n"
     ]
    }
   ],
   "source": [
    "s = {'một': pd.Series([1., 2., 3., 5.], index=['a', 'b', 'c', 'e']),'hai': pd.Series([1., 2., 3., 4.], index=['a', 'b', 'c', 'd']),\n",
    "'ba': pd.Series([9., -1.3, 3.5, 41.1], index=['a', 'b', 'c', 'd'])}\n",
    "df = pd.DataFrame(s)\n",
    "# chon cot hai\n",
    "df_hai = df['hai']\n",
    "print(df_hai)"
   ]
  },
  {
   "cell_type": "code",
   "execution_count": 43,
   "metadata": {},
   "outputs": [
    {
     "name": "stdout",
     "output_type": "stream",
     "text": [
      "   một  hai    ba   bốn\n",
      "a  1.0  1.0   9.0  -8.0\n",
      "b  2.0  2.0  -1.3   3.3\n",
      "c  3.0  3.0   3.5  -0.5\n",
      "d  NaN  4.0  41.1 -37.1\n",
      "e  5.0  NaN   NaN   NaN\n",
      "   một  hai  chèn    ba   bốn Chuẩn  Khác     KT\n",
      "a  1.0  1.0   1.0   9.0  -8.0    OK   1.0  False\n",
      "b  2.0  2.0   2.0  -1.3   3.3    OK   2.0  False\n",
      "c  3.0  3.0   3.0   3.5  -0.5    OK   3.0   True\n",
      "d  NaN  4.0   NaN  41.1 -37.1    OK   NaN  False\n",
      "e  5.0  NaN   5.0   NaN   NaN    OK   NaN  False\n"
     ]
    }
   ],
   "source": [
    "s = {'một': pd.Series([1., 2., 3., 5.], index=['a', 'b', 'c', 'e']),'hai': pd.Series([1., 2., 3., 4.], index=['a', 'b', 'c', 'd']),\n",
    "'ba': pd.Series([9., -1.3, 3.5, 41.1], index=['a', 'b', 'c', 'd'])}\n",
    "df = pd.DataFrame(s)\n",
    "# them cot bon theo cong thuc\n",
    "df['bốn'] = df['hai'] - df['ba']\n",
    "print(df)\n",
    "# thêm cột với giá trị vô hướng (scalar value)\n",
    "df['Chuẩn'] = 'OK'\n",
    "# thêm cột không cùng số lượng index với DataFrame\n",
    "df['Khác'] = df['hai'][:3]\n",
    "# thêm cột True/False theo điều kiện\n",
    "df['KT'] = df['một'] == 3.0\n",
    "# dùng hàm insert. Cột \"chèn\" bên dưới sẽ ở vị trí 2 (tính từ 0), có giá trị bằng cột một\n",
    "df.insert(2, 'chèn', df['một'])\n",
    "print(df)"
   ]
  },
  {
   "cell_type": "code",
   "execution_count": 44,
   "metadata": {},
   "outputs": [
    {
     "name": "stdout",
     "output_type": "stream",
     "text": [
      "   một\n",
      "a  1.0\n",
      "b  2.0\n",
      "c  3.0\n",
      "d  NaN\n",
      "e  5.0\n"
     ]
    }
   ],
   "source": [
    "s = {'một': pd.Series([1., 2., 3., 5.], index=['a', 'b', 'c', 'e']),'hai': pd.Series([1., 2., 3., 4.], index=['a', 'b', 'c', 'd']),\n",
    "'ba': pd.Series([9., -1.3, 3.5, 41.1], index=['a', 'b', 'c', 'd'])}\n",
    "df = pd.DataFrame(s)\n",
    "# xóa cột hai\n",
    "del df['hai']\n",
    "# pop cột ba với dict tv_ba\n",
    "tv_ba = df.pop('ba')\n",
    "print(df)"
   ]
  },
  {
   "cell_type": "code",
   "execution_count": 45,
   "metadata": {},
   "outputs": [
    {
     "name": "stdout",
     "output_type": "stream",
     "text": [
      "một    5.0\n",
      "hai    NaN\n",
      "ba     NaN\n",
      "Name: e, dtype: float64\n"
     ]
    }
   ],
   "source": [
    "s = {'một': pd.Series([1., 2., 3., 5.], index=['a', 'b', 'c', 'e']),'hai': pd.Series([1., 2., 3., 4.], index=['a', 'b', 'c', 'd']),\n",
    "'ba': pd.Series([9., -1.3, 3.5, 41.1], index=['a', 'b', 'c', 'd'])}\n",
    "df = pd.DataFrame(s)\n",
    "# chọn dòng theo label\n",
    "d = df.loc['e']\n",
    "print(d)"
   ]
  },
  {
   "cell_type": "code",
   "execution_count": 46,
   "metadata": {},
   "outputs": [
    {
     "name": "stdout",
     "output_type": "stream",
     "text": [
      "một    5.0\n",
      "hai    NaN\n",
      "ba     NaN\n",
      "Name: e, dtype: float64\n"
     ]
    }
   ],
   "source": [
    "s = {'một': pd.Series([1., 2., 3., 5.], index=['a', 'b', 'c', 'e']),'hai': pd.Series([1., 2., 3., 4.], index=['a', 'b', 'c', 'd']),\n",
    "'ba': pd.Series([9., -1.3, 3.5, 41.1], index=['a', 'b', 'c', 'd'])}\n",
    "df = pd.DataFrame(s)\n",
    "# chọn dòng theo vị trí nguyên\n",
    "d = df.iloc[4]\n",
    "print(d)"
   ]
  },
  {
   "cell_type": "code",
   "execution_count": null,
   "metadata": {},
   "outputs": [],
   "source": []
  },
  {
   "cell_type": "code",
   "execution_count": 47,
   "metadata": {},
   "outputs": [
    {
     "name": "stdout",
     "output_type": "stream",
     "text": [
      "   một  hai    ba\n",
      "c  3.0  3.0   3.5\n",
      "d  NaN  4.0  41.1\n"
     ]
    }
   ],
   "source": [
    "s = {'một': pd.Series([1., 2., 3., 5.], index=['a', 'b', 'c', 'e']),'hai': pd.Series([1., 2., 3., 4.], index=['a', 'b', 'c', 'd']),\n",
    "'ba': pd.Series([9., -1.3, 3.5, 41.1], index=['a', 'b', 'c', 'd'])}\n",
    "df = pd.DataFrame(s)\n",
    "# cắt lấy ra từ dòng 3 đến dòng 4\n",
    "d = df[2:4]\n",
    "print(d)"
   ]
  },
  {
   "cell_type": "code",
   "execution_count": 48,
   "metadata": {},
   "outputs": [],
   "source": [
    "import pandas as pd\n",
    "import numpy as nb"
   ]
  },
  {
   "cell_type": "code",
   "execution_count": 49,
   "metadata": {},
   "outputs": [
    {
     "data": {
      "text/plain": [
       "<bound method DataFrame.info of    một  hai    ba\n",
       "a  1.0  1.0   9.0\n",
       "b  2.0  2.0  -1.3\n",
       "c  3.0  3.0   3.5\n",
       "d  NaN  4.0  41.1\n",
       "e  5.0  NaN   NaN>"
      ]
     },
     "execution_count": 49,
     "metadata": {},
     "output_type": "execute_result"
    }
   ],
   "source": [
    "tip_df=pd.read_csv('tips.csv')\n",
    "df.info"
   ]
  },
  {
   "cell_type": "code",
   "execution_count": 51,
   "metadata": {},
   "outputs": [
    {
     "name": "stdout",
     "output_type": "stream",
     "text": [
      "   Unnamed: 0  total_bill   tip     sex smoker  day    time  size\n",
      "0           0       16.99  1.01  Female     No  Sun  Dinner     2\n",
      "1           1       10.34  1.66    Male     No  Sun  Dinner     3\n",
      "2           2       21.01  3.50    Male     No  Sun  Dinner     3\n",
      "3           3       23.68  3.31    Male     No  Sun  Dinner     2\n",
      "4           4       24.59  3.61  Female     No  Sun  Dinner     4\n",
      "     Unnamed: 0  total_bill   tip     sex smoker   day    time  size\n",
      "239         239       29.03  5.92    Male     No   Sat  Dinner     3\n",
      "240         240       27.18  2.00  Female    Yes   Sat  Dinner     2\n",
      "241         241       22.67  2.00    Male    Yes   Sat  Dinner     2\n",
      "242         242       17.82  1.75    Male     No   Sat  Dinner     2\n",
      "243         243       18.78  3.00  Female     No  Thur  Dinner     2\n"
     ]
    }
   ],
   "source": [
    "print(tip_df.head(5))\n",
    "\n",
    "\n",
    "print(tip_df.tail(5))"
   ]
  },
  {
   "cell_type": "code",
   "execution_count": 57,
   "metadata": {},
   "outputs": [
    {
     "data": {
      "text/html": [
       "<div>\n",
       "<style scoped>\n",
       "    .dataframe tbody tr th:only-of-type {\n",
       "        vertical-align: middle;\n",
       "    }\n",
       "\n",
       "    .dataframe tbody tr th {\n",
       "        vertical-align: top;\n",
       "    }\n",
       "\n",
       "    .dataframe thead th {\n",
       "        text-align: right;\n",
       "    }\n",
       "</style>\n",
       "<table border=\"1\" class=\"dataframe\">\n",
       "  <thead>\n",
       "    <tr style=\"text-align: right;\">\n",
       "      <th></th>\n",
       "      <th>Unnamed: 0</th>\n",
       "      <th>total_bill</th>\n",
       "      <th>tip</th>\n",
       "      <th>sex</th>\n",
       "      <th>smoker</th>\n",
       "      <th>day</th>\n",
       "      <th>time</th>\n",
       "      <th>size</th>\n",
       "    </tr>\n",
       "  </thead>\n",
       "  <tbody>\n",
       "    <tr>\n",
       "      <th>2</th>\n",
       "      <td>2</td>\n",
       "      <td>21.01</td>\n",
       "      <td>3.50</td>\n",
       "      <td>Male</td>\n",
       "      <td>No</td>\n",
       "      <td>Sun</td>\n",
       "      <td>Dinner</td>\n",
       "      <td>3</td>\n",
       "    </tr>\n",
       "    <tr>\n",
       "      <th>3</th>\n",
       "      <td>3</td>\n",
       "      <td>23.68</td>\n",
       "      <td>3.31</td>\n",
       "      <td>Male</td>\n",
       "      <td>No</td>\n",
       "      <td>Sun</td>\n",
       "      <td>Dinner</td>\n",
       "      <td>2</td>\n",
       "    </tr>\n",
       "    <tr>\n",
       "      <th>4</th>\n",
       "      <td>4</td>\n",
       "      <td>24.59</td>\n",
       "      <td>3.61</td>\n",
       "      <td>Female</td>\n",
       "      <td>No</td>\n",
       "      <td>Sun</td>\n",
       "      <td>Dinner</td>\n",
       "      <td>4</td>\n",
       "    </tr>\n",
       "    <tr>\n",
       "      <th>5</th>\n",
       "      <td>5</td>\n",
       "      <td>25.29</td>\n",
       "      <td>4.71</td>\n",
       "      <td>Male</td>\n",
       "      <td>No</td>\n",
       "      <td>Sun</td>\n",
       "      <td>Dinner</td>\n",
       "      <td>4</td>\n",
       "    </tr>\n",
       "    <tr>\n",
       "      <th>7</th>\n",
       "      <td>7</td>\n",
       "      <td>26.88</td>\n",
       "      <td>3.12</td>\n",
       "      <td>Male</td>\n",
       "      <td>No</td>\n",
       "      <td>Sun</td>\n",
       "      <td>Dinner</td>\n",
       "      <td>4</td>\n",
       "    </tr>\n",
       "    <tr>\n",
       "      <th>...</th>\n",
       "      <td>...</td>\n",
       "      <td>...</td>\n",
       "      <td>...</td>\n",
       "      <td>...</td>\n",
       "      <td>...</td>\n",
       "      <td>...</td>\n",
       "      <td>...</td>\n",
       "      <td>...</td>\n",
       "    </tr>\n",
       "    <tr>\n",
       "      <th>237</th>\n",
       "      <td>237</td>\n",
       "      <td>32.83</td>\n",
       "      <td>1.17</td>\n",
       "      <td>Male</td>\n",
       "      <td>Yes</td>\n",
       "      <td>Sat</td>\n",
       "      <td>Dinner</td>\n",
       "      <td>2</td>\n",
       "    </tr>\n",
       "    <tr>\n",
       "      <th>238</th>\n",
       "      <td>238</td>\n",
       "      <td>35.83</td>\n",
       "      <td>4.67</td>\n",
       "      <td>Female</td>\n",
       "      <td>No</td>\n",
       "      <td>Sat</td>\n",
       "      <td>Dinner</td>\n",
       "      <td>3</td>\n",
       "    </tr>\n",
       "    <tr>\n",
       "      <th>239</th>\n",
       "      <td>239</td>\n",
       "      <td>29.03</td>\n",
       "      <td>5.92</td>\n",
       "      <td>Male</td>\n",
       "      <td>No</td>\n",
       "      <td>Sat</td>\n",
       "      <td>Dinner</td>\n",
       "      <td>3</td>\n",
       "    </tr>\n",
       "    <tr>\n",
       "      <th>240</th>\n",
       "      <td>240</td>\n",
       "      <td>27.18</td>\n",
       "      <td>2.00</td>\n",
       "      <td>Female</td>\n",
       "      <td>Yes</td>\n",
       "      <td>Sat</td>\n",
       "      <td>Dinner</td>\n",
       "      <td>2</td>\n",
       "    </tr>\n",
       "    <tr>\n",
       "      <th>241</th>\n",
       "      <td>241</td>\n",
       "      <td>22.67</td>\n",
       "      <td>2.00</td>\n",
       "      <td>Male</td>\n",
       "      <td>Yes</td>\n",
       "      <td>Sat</td>\n",
       "      <td>Dinner</td>\n",
       "      <td>2</td>\n",
       "    </tr>\n",
       "  </tbody>\n",
       "</table>\n",
       "<p>97 rows × 8 columns</p>\n",
       "</div>"
      ],
      "text/plain": [
       "     Unnamed: 0  total_bill   tip     sex smoker  day    time  size\n",
       "2             2       21.01  3.50    Male     No  Sun  Dinner     3\n",
       "3             3       23.68  3.31    Male     No  Sun  Dinner     2\n",
       "4             4       24.59  3.61  Female     No  Sun  Dinner     4\n",
       "5             5       25.29  4.71    Male     No  Sun  Dinner     4\n",
       "7             7       26.88  3.12    Male     No  Sun  Dinner     4\n",
       "..          ...         ...   ...     ...    ...  ...     ...   ...\n",
       "237         237       32.83  1.17    Male    Yes  Sat  Dinner     2\n",
       "238         238       35.83  4.67  Female     No  Sat  Dinner     3\n",
       "239         239       29.03  5.92    Male     No  Sat  Dinner     3\n",
       "240         240       27.18  2.00  Female    Yes  Sat  Dinner     2\n",
       "241         241       22.67  2.00    Male    Yes  Sat  Dinner     2\n",
       "\n",
       "[97 rows x 8 columns]"
      ]
     },
     "execution_count": 57,
     "metadata": {},
     "output_type": "execute_result"
    }
   ],
   "source": [
    "# xem người có bill cao hơn 20\n",
    "bill_lon_hon_20=tip_df[tip_df['total_bill']>20]\n",
    "bill_lon_hon_20"
   ]
  },
  {
   "cell_type": "code",
   "execution_count": 58,
   "metadata": {},
   "outputs": [
    {
     "data": {
      "text/html": [
       "<div>\n",
       "<style scoped>\n",
       "    .dataframe tbody tr th:only-of-type {\n",
       "        vertical-align: middle;\n",
       "    }\n",
       "\n",
       "    .dataframe tbody tr th {\n",
       "        vertical-align: top;\n",
       "    }\n",
       "\n",
       "    .dataframe thead th {\n",
       "        text-align: right;\n",
       "    }\n",
       "</style>\n",
       "<table border=\"1\" class=\"dataframe\">\n",
       "  <thead>\n",
       "    <tr style=\"text-align: right;\">\n",
       "      <th></th>\n",
       "      <th>Unnamed: 0</th>\n",
       "      <th>total_bill</th>\n",
       "      <th>tip</th>\n",
       "      <th>sex</th>\n",
       "      <th>smoker</th>\n",
       "      <th>day</th>\n",
       "      <th>time</th>\n",
       "      <th>size</th>\n",
       "    </tr>\n",
       "  </thead>\n",
       "  <tbody>\n",
       "    <tr>\n",
       "      <th>1</th>\n",
       "      <td>1</td>\n",
       "      <td>10.34</td>\n",
       "      <td>1.66</td>\n",
       "      <td>Male</td>\n",
       "      <td>No</td>\n",
       "      <td>Sun</td>\n",
       "      <td>Dinner</td>\n",
       "      <td>3</td>\n",
       "    </tr>\n",
       "    <tr>\n",
       "      <th>2</th>\n",
       "      <td>2</td>\n",
       "      <td>21.01</td>\n",
       "      <td>3.50</td>\n",
       "      <td>Male</td>\n",
       "      <td>No</td>\n",
       "      <td>Sun</td>\n",
       "      <td>Dinner</td>\n",
       "      <td>3</td>\n",
       "    </tr>\n",
       "    <tr>\n",
       "      <th>4</th>\n",
       "      <td>4</td>\n",
       "      <td>24.59</td>\n",
       "      <td>3.61</td>\n",
       "      <td>Female</td>\n",
       "      <td>No</td>\n",
       "      <td>Sun</td>\n",
       "      <td>Dinner</td>\n",
       "      <td>4</td>\n",
       "    </tr>\n",
       "    <tr>\n",
       "      <th>5</th>\n",
       "      <td>5</td>\n",
       "      <td>25.29</td>\n",
       "      <td>4.71</td>\n",
       "      <td>Male</td>\n",
       "      <td>No</td>\n",
       "      <td>Sun</td>\n",
       "      <td>Dinner</td>\n",
       "      <td>4</td>\n",
       "    </tr>\n",
       "    <tr>\n",
       "      <th>7</th>\n",
       "      <td>7</td>\n",
       "      <td>26.88</td>\n",
       "      <td>3.12</td>\n",
       "      <td>Male</td>\n",
       "      <td>No</td>\n",
       "      <td>Sun</td>\n",
       "      <td>Dinner</td>\n",
       "      <td>4</td>\n",
       "    </tr>\n",
       "    <tr>\n",
       "      <th>...</th>\n",
       "      <td>...</td>\n",
       "      <td>...</td>\n",
       "      <td>...</td>\n",
       "      <td>...</td>\n",
       "      <td>...</td>\n",
       "      <td>...</td>\n",
       "      <td>...</td>\n",
       "      <td>...</td>\n",
       "    </tr>\n",
       "    <tr>\n",
       "      <th>227</th>\n",
       "      <td>227</td>\n",
       "      <td>20.45</td>\n",
       "      <td>3.00</td>\n",
       "      <td>Male</td>\n",
       "      <td>No</td>\n",
       "      <td>Sat</td>\n",
       "      <td>Dinner</td>\n",
       "      <td>4</td>\n",
       "    </tr>\n",
       "    <tr>\n",
       "      <th>230</th>\n",
       "      <td>230</td>\n",
       "      <td>24.01</td>\n",
       "      <td>2.00</td>\n",
       "      <td>Male</td>\n",
       "      <td>Yes</td>\n",
       "      <td>Sat</td>\n",
       "      <td>Dinner</td>\n",
       "      <td>4</td>\n",
       "    </tr>\n",
       "    <tr>\n",
       "      <th>231</th>\n",
       "      <td>231</td>\n",
       "      <td>15.69</td>\n",
       "      <td>3.00</td>\n",
       "      <td>Male</td>\n",
       "      <td>Yes</td>\n",
       "      <td>Sat</td>\n",
       "      <td>Dinner</td>\n",
       "      <td>3</td>\n",
       "    </tr>\n",
       "    <tr>\n",
       "      <th>238</th>\n",
       "      <td>238</td>\n",
       "      <td>35.83</td>\n",
       "      <td>4.67</td>\n",
       "      <td>Female</td>\n",
       "      <td>No</td>\n",
       "      <td>Sat</td>\n",
       "      <td>Dinner</td>\n",
       "      <td>3</td>\n",
       "    </tr>\n",
       "    <tr>\n",
       "      <th>239</th>\n",
       "      <td>239</td>\n",
       "      <td>29.03</td>\n",
       "      <td>5.92</td>\n",
       "      <td>Male</td>\n",
       "      <td>No</td>\n",
       "      <td>Sat</td>\n",
       "      <td>Dinner</td>\n",
       "      <td>3</td>\n",
       "    </tr>\n",
       "  </tbody>\n",
       "</table>\n",
       "<p>84 rows × 8 columns</p>\n",
       "</div>"
      ],
      "text/plain": [
       "     Unnamed: 0  total_bill   tip     sex smoker  day    time  size\n",
       "1             1       10.34  1.66    Male     No  Sun  Dinner     3\n",
       "2             2       21.01  3.50    Male     No  Sun  Dinner     3\n",
       "4             4       24.59  3.61  Female     No  Sun  Dinner     4\n",
       "5             5       25.29  4.71    Male     No  Sun  Dinner     4\n",
       "7             7       26.88  3.12    Male     No  Sun  Dinner     4\n",
       "..          ...         ...   ...     ...    ...  ...     ...   ...\n",
       "227         227       20.45  3.00    Male     No  Sat  Dinner     4\n",
       "230         230       24.01  2.00    Male    Yes  Sat  Dinner     4\n",
       "231         231       15.69  3.00    Male    Yes  Sat  Dinner     3\n",
       "238         238       35.83  4.67  Female     No  Sat  Dinner     3\n",
       "239         239       29.03  5.92    Male     No  Sat  Dinner     3\n",
       "\n",
       "[84 rows x 8 columns]"
      ]
     },
     "execution_count": 58,
     "metadata": {},
     "output_type": "execute_result"
    }
   ],
   "source": [
    "nhieu_hon_2ng=tip_df[tip_df['size']>2]\n",
    "nhieu_hon_2ng"
   ]
  },
  {
   "cell_type": "code",
   "execution_count": 66,
   "metadata": {},
   "outputs": [
    {
     "data": {
      "text/plain": [
       "<Axes: >"
      ]
     },
     "execution_count": 66,
     "metadata": {},
     "output_type": "execute_result"
    },
    {
     "data": {
      "image/png": "[encoded data removed]",
      "text/plain": [
       "<Figure size 640x480 with 1 Axes>"
      ]
     },
     "metadata": {},
     "output_type": "display_data"
    }
   ],
   "source": [
    "import matplotlib.pyplot as plt\n",
    "tip_df['day'].value_counts().plot(kind='bar')"
   ]
  },
  {
   "cell_type": "code",
   "execution_count": 78,
   "metadata": {},
   "outputs": [
    {
     "data": {
      "text/html": [
       "<div>\n",
       "<style scoped>\n",
       "    .dataframe tbody tr th:only-of-type {\n",
       "        vertical-align: middle;\n",
       "    }\n",
       "\n",
       "    .dataframe tbody tr th {\n",
       "        vertical-align: top;\n",
       "    }\n",
       "\n",
       "    .dataframe thead th {\n",
       "        text-align: right;\n",
       "    }\n",
       "</style>\n",
       "<table border=\"1\" class=\"dataframe\">\n",
       "  <thead>\n",
       "    <tr style=\"text-align: right;\">\n",
       "      <th></th>\n",
       "      <th>Unnamed: 0</th>\n",
       "      <th>total_bill</th>\n",
       "      <th>tip</th>\n",
       "      <th>size</th>\n",
       "    </tr>\n",
       "  </thead>\n",
       "  <tbody>\n",
       "    <tr>\n",
       "      <th>count</th>\n",
       "      <td>244.000000</td>\n",
       "      <td>244.000000</td>\n",
       "      <td>244.000000</td>\n",
       "      <td>244.000000</td>\n",
       "    </tr>\n",
       "    <tr>\n",
       "      <th>mean</th>\n",
       "      <td>121.500000</td>\n",
       "      <td>19.785943</td>\n",
       "      <td>2.998279</td>\n",
       "      <td>2.569672</td>\n",
       "    </tr>\n",
       "    <tr>\n",
       "      <th>std</th>\n",
       "      <td>70.580923</td>\n",
       "      <td>8.902412</td>\n",
       "      <td>1.383638</td>\n",
       "      <td>0.951100</td>\n",
       "    </tr>\n",
       "    <tr>\n",
       "      <th>min</th>\n",
       "      <td>0.000000</td>\n",
       "      <td>3.070000</td>\n",
       "      <td>1.000000</td>\n",
       "      <td>1.000000</td>\n",
       "    </tr>\n",
       "    <tr>\n",
       "      <th>25%</th>\n",
       "      <td>60.750000</td>\n",
       "      <td>13.347500</td>\n",
       "      <td>2.000000</td>\n",
       "      <td>2.000000</td>\n",
       "    </tr>\n",
       "    <tr>\n",
       "      <th>50%</th>\n",
       "      <td>121.500000</td>\n",
       "      <td>17.795000</td>\n",
       "      <td>2.900000</td>\n",
       "      <td>2.000000</td>\n",
       "    </tr>\n",
       "    <tr>\n",
       "      <th>75%</th>\n",
       "      <td>182.250000</td>\n",
       "      <td>24.127500</td>\n",
       "      <td>3.562500</td>\n",
       "      <td>3.000000</td>\n",
       "    </tr>\n",
       "    <tr>\n",
       "      <th>max</th>\n",
       "      <td>243.000000</td>\n",
       "      <td>50.810000</td>\n",
       "      <td>10.000000</td>\n",
       "      <td>6.000000</td>\n",
       "    </tr>\n",
       "  </tbody>\n",
       "</table>\n",
       "</div>"
      ],
      "text/plain": [
       "       Unnamed: 0  total_bill         tip        size\n",
       "count  244.000000  244.000000  244.000000  244.000000\n",
       "mean   121.500000   19.785943    2.998279    2.569672\n",
       "std     70.580923    8.902412    1.383638    0.951100\n",
       "min      0.000000    3.070000    1.000000    1.000000\n",
       "25%     60.750000   13.347500    2.000000    2.000000\n",
       "50%    121.500000   17.795000    2.900000    2.000000\n",
       "75%    182.250000   24.127500    3.562500    3.000000\n",
       "max    243.000000   50.810000   10.000000    6.000000"
      ]
     },
     "execution_count": 78,
     "metadata": {},
     "output_type": "execute_result"
    }
   ],
   "source": [
    "tip_df.describe()"
   ]
  },
  {
   "cell_type": "code",
   "execution_count": 80,
   "metadata": {},
   "outputs": [
    {
     "name": "stdout",
     "output_type": "stream",
     "text": [
      "     Unnamed: 0  total_bill   tip     sex smoker   day    time  size  \\\n",
      "0             0       16.99  1.01  Female     No   Sun  Dinner     2   \n",
      "1             1       10.34  1.66    Male     No   Sun  Dinner     3   \n",
      "2             2       21.01  3.50    Male     No   Sun  Dinner     3   \n",
      "3             3       23.68  3.31    Male     No   Sun  Dinner     2   \n",
      "4             4       24.59  3.61  Female     No   Sun  Dinner     4   \n",
      "..          ...         ...   ...     ...    ...   ...     ...   ...   \n",
      "239         239       29.03  5.92    Male     No   Sat  Dinner     3   \n",
      "240         240       27.18  2.00  Female    Yes   Sat  Dinner     2   \n",
      "241         241       22.67  2.00    Male    Yes   Sat  Dinner     2   \n",
      "242         242       17.82  1.75    Male     No   Sat  Dinner     2   \n",
      "243         243       18.78  3.00  Female     No  Thur  Dinner     2   \n",
      "\n",
      "     total_pay  \n",
      "0        18.00  \n",
      "1        12.00  \n",
      "2        24.51  \n",
      "3        26.99  \n",
      "4        28.20  \n",
      "..         ...  \n",
      "239      34.95  \n",
      "240      29.18  \n",
      "241      24.67  \n",
      "242      19.57  \n",
      "243      21.78  \n",
      "\n",
      "[244 rows x 9 columns]\n"
     ]
    }
   ],
   "source": [
    "#them 1 cot tinh tong tien phai tra\n",
    "tip_df['total_pay'] = tip_df['total_bill']+ tip_df['tip']\n",
    "print(tip_df)"
   ]
  }
 ],
 "metadata": {
  "kernelspec": {
   "display_name": "base",
   "language": "python",
   "name": "python3"
  },
  "language_info": {
   "codemirror_mode": {
    "name": "ipython",
    "version": 3
   },
   "file_extension": ".py",
   "mimetype": "text/x-python",
   "name": "python",
   "nbconvert_exporter": "python",
   "pygments_lexer": "ipython3",
   "version": "3.11.4"
  }
 },
 "nbformat": 4,
 "nbformat_minor": 2
}
