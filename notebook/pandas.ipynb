{
 "cells": [
  {
   "cell_type": "markdown",
   "metadata": {},
   "source": [
    "# Le Quoc Hung 22712771\n"
   ]
  },
  {
   "cell_type": "code",
   "execution_count": 2,
   "metadata": {},
   "outputs": [
    {
     "name": "stdout",
     "output_type": "stream",
     "text": [
      "0    1\n",
      "1    2\n",
      "2    3\n",
      "3    4\n",
      "dtype: int64\n"
     ]
    }
   ],
   "source": [
    "#k truyen index\n",
    "import pandas as pd\n",
    "s=pd.Series([1,2,3,4])\n",
    "print(s)"
   ]
  },
  {
   "cell_type": "code",
   "execution_count": 5,
   "metadata": {},
   "outputs": [
    {
     "name": "stdout",
     "output_type": "stream",
     "text": [
      "a    1\n",
      "b    2\n",
      "c    3\n",
      "d    4\n",
      "dtype: int64\n"
     ]
    }
   ],
   "source": [
    "#truyen index\n",
    "s=pd.Series([1,2,3,4],index=([\"a\",\"b\",\"c\",\"d\"]))\n",
    "print(s)"
   ]
  },
  {
   "cell_type": "code",
   "execution_count": 6,
   "metadata": {},
   "outputs": [
    {
     "name": "stdout",
     "output_type": "stream",
     "text": [
      "a    -1.3\n",
      "b    11.7\n",
      "c     NaN\n",
      "d     2.0\n",
      "dtype: float64\n"
     ]
    }
   ],
   "source": [
    "#tao series tu dict\n",
    "data={'a':-1.3,'b':11.7,'d':2.0}\n",
    "ser=pd.Series(data,index=['a','b','c','d'])\n",
    "print(ser)"
   ]
  },
  {
   "cell_type": "code",
   "execution_count": 7,
   "metadata": {},
   "outputs": [
    {
     "name": "stdout",
     "output_type": "stream",
     "text": [
      "1    5\n",
      "2    5\n",
      "3    5\n",
      "4    5\n",
      "5    5\n",
      "dtype: int64\n"
     ]
    }
   ],
   "source": [
    "#gia tri lap lai de phu hop do dai\n",
    "se=pd.Series(5,index=[1,2,3,4,5])\n",
    "print(se)"
   ]
  },
  {
   "cell_type": "code",
   "execution_count": 8,
   "metadata": {},
   "outputs": [
    {
     "name": "stdout",
     "output_type": "stream",
     "text": [
      "0     2\n",
      "1    42\n",
      "2    70\n",
      "3    32\n",
      "dtype: int32\n",
      "[ 2 42 70 32]\n",
      "RangeIndex(start=0, stop=4, step=1)\n"
     ]
    }
   ],
   "source": [
    "#tao du lieu \n",
    "import numpy as np\n",
    "S=pd.Series(np.random.randint(100,size=4))\n",
    "print(S)\n",
    "print(S.values)\n",
    "print(S.index)"
   ]
  },
  {
   "cell_type": "code",
   "execution_count": 10,
   "metadata": {},
   "outputs": [
    {
     "name": "stdout",
     "output_type": "stream",
     "text": [
      "ke toan    310\n",
      "KT         360\n",
      "CNTT       580\n",
      "Co khi     340\n",
      "dtype: int64\n",
      "Index(['ke toan', 'KT', 'CNTT', 'Co khi'], dtype='object')\n",
      "[310 360 580 340]\n"
     ]
    }
   ],
   "source": [
    "chi_so=[\"ke toan\",'KT','CNTT','Co khi']\n",
    "gia_tri=[310,360,580,340]\n",
    "S=pd.Series(gia_tri,index=chi_so)\n",
    "print(S)\n",
    "print(S.index)\n",
    "print(S.values)"
   ]
  },
  {
   "cell_type": "code",
   "execution_count": 11,
   "metadata": {},
   "outputs": [
    {
     "name": "stdout",
     "output_type": "stream",
     "text": [
      "KT        310\n",
      "KT        360\n",
      "CNTT      580\n",
      "Co khi    340\n",
      "dtype: int64\n",
      "Index(['KT', 'KT', 'CNTT', 'Co khi'], dtype='object')\n",
      "[310 360 580 340]\n"
     ]
    }
   ],
   "source": [
    "#chi so trung nhau\n",
    "chi_so=[\"KT\",'KT','CNTT','Co khi']\n",
    "gia_tri=[310,360,580,340]\n",
    "S=pd.Series(gia_tri,index=chi_so)\n",
    "print(S)\n",
    "print(S.index)\n",
    "print(S.values)"
   ]
  },
  {
   "cell_type": "code",
   "execution_count": 12,
   "metadata": {},
   "outputs": [
    {
     "name": "stdout",
     "output_type": "stream",
     "text": [
      "-1.3\n",
      "nan\n"
     ]
    }
   ],
   "source": [
    "#lay du lieu tai index cu the\n",
    "data={'a':-1.3,'b':11.7,'d':2.0}\n",
    "ser=pd.Series(data,index=['a','b','c','d'])\n",
    "print(ser['a'])\n",
    "print(ser['c'])"
   ]
  },
  {
   "cell_type": "code",
   "execution_count": 14,
   "metadata": {},
   "outputs": [
    {
     "name": "stdout",
     "output_type": "stream",
     "text": [
      "a    -1.3\n",
      "b    11.7\n",
      "dtype: float64\n"
     ]
    }
   ],
   "source": [
    "#lay du lieu tu dau den vi tri cu the\n",
    "data={'a':-1.3,'b':11.7,'d':2.0}\n",
    "ser=pd.Series(data,index=['a','b','c','d'])\n",
    "print(ser[:'b'])\n"
   ]
  },
  {
   "cell_type": "code",
   "execution_count": 15,
   "metadata": {},
   "outputs": [
    {
     "name": "stdout",
     "output_type": "stream",
     "text": [
      "a    -1.3\n",
      "b    11.7\n",
      "c     NaN\n",
      "dtype: float64\n"
     ]
    }
   ],
   "source": [
    "#lay 3 du lieu dau\n",
    "data={'a':-1.3,'b':11.7,'d':2.0}\n",
    "ser=pd.Series(data,index=['a','b','c','d'])\n",
    "print(ser[:3])"
   ]
  },
  {
   "cell_type": "code",
   "execution_count": 21,
   "metadata": {},
   "outputs": [
    {
     "name": "stdout",
     "output_type": "stream",
     "text": [
      "c    NaN\n",
      "d    2.0\n",
      "dtype: float64\n"
     ]
    }
   ],
   "source": [
    "#lay 2 du lieu cuoi\n",
    "data={'a':-1.3,'b':11.7,'d':2.0}\n",
    "ser=pd.Series(data,index=['a','b','c','d'])\n",
    "print(ser[2:])"
   ]
  },
  {
   "cell_type": "code",
   "execution_count": 22,
   "metadata": {},
   "outputs": [
    {
     "name": "stdout",
     "output_type": "stream",
     "text": [
      "[-1.3 11.7  nan  2. ]\n"
     ]
    }
   ],
   "source": [
    "#chuyen sang dang khac- lay dang array cua series bang numpy.array\n",
    "data={'a':-1.3,'b':11.7,'d':2.0}\n",
    "ser=pd.Series(data,index=['a','b','c','d'])\n",
    "a=np.array(ser)\n",
    "print(a)"
   ]
  },
  {
   "cell_type": "code",
   "execution_count": 23,
   "metadata": {},
   "outputs": [
    {
     "name": "stdout",
     "output_type": "stream",
     "text": [
      "340\n",
      "KT    310\n",
      "KT    360\n",
      "dtype: int64\n",
      "580\n"
     ]
    }
   ],
   "source": [
    "#truy xuat du lieu thong qua chi so\n",
    "chi_so=[\"KT\",'KT','CNTT','Co khi']\n",
    "gia_tri=[310,360,580,340]\n",
    "S=pd.Series(gia_tri,index=chi_so)\n",
    "print(S['Co khi'])\n",
    "print(S['KT'])\n",
    "print(S['CNTT'])"
   ]
  },
  {
   "cell_type": "code",
   "execution_count": 26,
   "metadata": {},
   "outputs": [
    {
     "name": "stdout",
     "output_type": "stream",
     "text": [
      "CNTT      680.0\n",
      "Co khi      NaN\n",
      "KT          NaN\n",
      "PM        460.0\n",
      "dtype: float64\n"
     ]
    }
   ],
   "source": [
    "#phep toan tren series\n",
    "chi_so=[\"KT\",'PM','CNTT','Co khi']\n",
    "gia_tri=[310,360,580,340]\n",
    "#chi so giong thi gop , neu khong thi nan\n",
    "S=pd.Series(gia_tri,index=chi_so)\n",
    "P=pd.Series([100,100],['CNTT','PM'])\n",
    "Y=P+S\n",
    "print(Y)\n"
   ]
  },
  {
   "cell_type": "code",
   "execution_count": 27,
   "metadata": {},
   "outputs": [
    {
     "name": "stdout",
     "output_type": "stream",
     "text": [
      "Ke toan    1310\n",
      "KT         1360\n",
      "CNTT        580\n",
      "Co khi     1340\n",
      "dtype: int64\n"
     ]
    }
   ],
   "source": [
    "#ham apply\n",
    "def Tang(x):\n",
    "    return x if x >500 else x+1000\n",
    "chi_so=['Ke toan','KT','CNTT','Co khi']\n",
    "gia_tri=[310,360,580,340]\n",
    "s=pd.Series(gia_tri,chi_so)\n",
    "#ap dung tang tren S (khong thay doi S)\n",
    "print(s.apply(Tang))"
   ]
  },
  {
   "cell_type": "code",
   "execution_count": 28,
   "metadata": {},
   "outputs": [
    {
     "name": "stdout",
     "output_type": "stream",
     "text": [
      "   mot  hai\n",
      "a  1.0  1.0\n",
      "b  2.0  2.0\n",
      "c  3.0  3.0\n",
      "d  NaN  4.0\n",
      "e  5.0  NaN\n"
     ]
    }
   ],
   "source": [
    "#tao data frame\n",
    "#tao dict tu series\n",
    "s={'mot': pd.Series([1,2,3,5],index=['a','b','c','e']),'hai': pd.Series([1,2,3,4],index=['a','b','c','d'])}\n",
    "#tao data fr tu dict\n",
    "df=pd.DataFrame(s)\n",
    "print(df)"
   ]
  },
  {
   "cell_type": "code",
   "execution_count": 29,
   "metadata": {},
   "outputs": [
    {
     "name": "stdout",
     "output_type": "stream",
     "text": [
      "   mot  hai\n",
      "a  1.0    1\n",
      "c  3.0    3\n",
      "d  NaN    4\n"
     ]
    }
   ],
   "source": [
    "\n",
    "#tao dict tu series\n",
    "s={'mot': pd.Series([1,2,3,5],index=['a','b','c','e']),'hai': pd.Series([1,2,3,4],index=['a','b','c','d'])}\n",
    "#tao data fr tu dict theo index duoc chon\n",
    "df=pd.DataFrame(s,index=['a','c','d'])\n",
    "print(df)"
   ]
  },
  {
   "cell_type": "code",
   "execution_count": 30,
   "metadata": {},
   "outputs": [
    {
     "name": "stdout",
     "output_type": "stream",
     "text": [
      "          0\n",
      "0       MIT\n",
      "1  Stanford\n",
      "2      DHTL\n",
      "          0  1\n",
      "0       MIT  1\n",
      "1  Stanford  2\n",
      "2      DHTL  3\n"
     ]
    }
   ],
   "source": [
    "#tao df tu list\n",
    "names=['MIT','Stanford','DHTL']\n",
    "df=pd.DataFrame(names)\n",
    "print(df)\n",
    "names_rank=[['MIT',1],['Stanford',2],['DHTL',3]]\n",
    "df=pd.DataFrame(names_rank)\n",
    "print(df)"
   ]
  },
  {
   "cell_type": "code",
   "execution_count": 31,
   "metadata": {},
   "outputs": [
    {
     "name": "stdout",
     "output_type": "stream",
     "text": [
      "   Year  Population    Total  Violent\n",
      "0  1960   179323175  3384200   288460\n",
      "1  1961   182992000  3488000   289390\n",
      "2  1962   185771000  3752200   301510\n",
      "3  1963   188483000  4109500   316970\n",
      "4  1964   191141000  4564600   364220\n"
     ]
    }
   ],
   "source": [
    "#tao df tu dict  cac list\n",
    "crimes_rates = {\n",
    "\"Year\":[1960,1961,1962,1963,1964],\"Population\":[179323175,182992000,185771000,188483000,191141000],\"Total\":[3384200,3488000,3752200,4109500,4564600],\n",
    "\"Violent\":[288460,289390,301510,316970,364220] }\n",
    "crimes_dataframe = pd.DataFrame(crimes_rates)\n",
    "print(crimes_dataframe)"
   ]
  },
  {
   "cell_type": "code",
   "execution_count": 32,
   "metadata": {},
   "outputs": [
    {
     "name": "stdout",
     "output_type": "stream",
     "text": [
      "                MIT  Stanford   DHTL\n",
      "NumOfStudents  5000      4500  15000\n",
      "ranking           1         2    200\n",
      "int64\n"
     ]
    }
   ],
   "source": [
    "#tao df tu list cac dict\n",
    "data = [ {'MIT': 5000, 'Stanford': 4500, \"DHTL\":15000},\n",
    "{'MIT': 1, 'Stanford': 2, \"DHTL\":200} ]\n",
    "df = pd.DataFrame(data, index=['NumOfStudents', \"ranking\"])\n",
    "print(df)\n",
    "print(df.DHTL.dtype)"
   ]
  },
  {
   "cell_type": "code",
   "execution_count": 33,
   "metadata": {},
   "outputs": [
    {
     "name": "stdout",
     "output_type": "stream",
     "text": [
      "    one   two\n",
      "1   1.0  1000\n",
      "2  23.0  2400\n",
      "3  45.0  1132\n",
      "4   NaN  3434\n"
     ]
    }
   ],
   "source": [
    "#tao df tu dict series\n",
    "data = { \"one\": pd.Series([1,23,45], index = [1,2,3]),\n",
    "\"two\": pd.Series([1000,2400,1132,3434], index = [1,2,3,4]) }\n",
    "df = pd.DataFrame(data)\n",
    "print(df)"
   ]
  },
  {
   "cell_type": "code",
   "execution_count": 34,
   "metadata": {},
   "outputs": [
    {
     "name": "stdout",
     "output_type": "stream",
     "text": [
      "a    1.0\n",
      "b    2.0\n",
      "c    3.0\n",
      "d    4.0\n",
      "e    NaN\n",
      "Name: hai, dtype: float64\n"
     ]
    }
   ],
   "source": [
    "s = {'một': pd.Series([1., 2., 3., 5.], index=['a', 'b', 'c', 'e']),'hai': pd.Series([1., 2., 3., 4.], index=['a', 'b', 'c', 'd']),\n",
    "'ba': pd.Series([9., -1.3, 3.5, 41.1], index=['a', 'b', 'c', 'd'])}\n",
    "df = pd.DataFrame(s)\n",
    "# chon cot hai\n",
    "df_hai = df['hai']\n",
    "print(df_hai)"
   ]
  },
  {
   "cell_type": "code",
   "execution_count": 37,
   "metadata": {},
   "outputs": [
    {
     "name": "stdout",
     "output_type": "stream",
     "text": [
      "   một  hai    ba   bốn\n",
      "a  1.0  1.0   9.0  -8.0\n",
      "b  2.0  2.0  -1.3   3.3\n",
      "c  3.0  3.0   3.5  -0.5\n",
      "d  NaN  4.0  41.1 -37.1\n",
      "e  5.0  NaN   NaN   NaN\n",
      "   một  hai  chèn    ba   bốn Chuẩn  Khác     KT\n",
      "a  1.0  1.0   1.0   9.0  -8.0    OK   1.0  False\n",
      "b  2.0  2.0   2.0  -1.3   3.3    OK   2.0  False\n",
      "c  3.0  3.0   3.0   3.5  -0.5    OK   3.0   True\n",
      "d  NaN  4.0   NaN  41.1 -37.1    OK   NaN  False\n",
      "e  5.0  NaN   5.0   NaN   NaN    OK   NaN  False\n"
     ]
    }
   ],
   "source": [
    "s = {'một': pd.Series([1., 2., 3., 5.], index=['a', 'b', 'c', 'e']),'hai': pd.Series([1., 2., 3., 4.], index=['a', 'b', 'c', 'd']),\n",
    "'ba': pd.Series([9., -1.3, 3.5, 41.1], index=['a', 'b', 'c', 'd'])}\n",
    "df = pd.DataFrame(s)\n",
    "# them cot bon theo cong thuc\n",
    "df['bốn'] = df['hai'] - df['ba']\n",
    "print(df)\n",
    "# thêm cột với giá trị vô hướng (scalar value)\n",
    "df['Chuẩn'] = 'OK'\n",
    "# thêm cột không cùng số lượng index với DataFrame\n",
    "df['Khác'] = df['hai'][:3]\n",
    "# thêm cột True/False theo điều kiện\n",
    "df['KT'] = df['một'] == 3.0\n",
    "# dùng hàm insert. Cột \"chèn\" bên dưới sẽ ở vị trí 2 (tính từ 0), có giá trị bằng cột một\n",
    "df.insert(2, 'chèn', df['một'])\n",
    "print(df)"
   ]
  },
  {
   "cell_type": "code",
   "execution_count": 38,
   "metadata": {},
   "outputs": [
    {
     "name": "stdout",
     "output_type": "stream",
     "text": [
      "   một\n",
      "a  1.0\n",
      "b  2.0\n",
      "c  3.0\n",
      "d  NaN\n",
      "e  5.0\n"
     ]
    }
   ],
   "source": [
    "s = {'một': pd.Series([1., 2., 3., 5.], index=['a', 'b', 'c', 'e']),'hai': pd.Series([1., 2., 3., 4.], index=['a', 'b', 'c', 'd']),\n",
    "'ba': pd.Series([9., -1.3, 3.5, 41.1], index=['a', 'b', 'c', 'd'])}\n",
    "df = pd.DataFrame(s)\n",
    "# xóa cột hai\n",
    "del df['hai']\n",
    "# pop cột ba với dict tv_ba\n",
    "tv_ba = df.pop('ba')\n",
    "print(df)"
   ]
  },
  {
   "cell_type": "code",
   "execution_count": 43,
   "metadata": {},
   "outputs": [
    {
     "name": "stdout",
     "output_type": "stream",
     "text": [
      "một    5.0\n",
      "hai    NaN\n",
      "ba     NaN\n",
      "Name: e, dtype: float64\n"
     ]
    }
   ],
   "source": [
    "s = {'một': pd.Series([1., 2., 3., 5.], index=['a', 'b', 'c', 'e']),'hai': pd.Series([1., 2., 3., 4.], index=['a', 'b', 'c', 'd']),\n",
    "'ba': pd.Series([9., -1.3, 3.5, 41.1], index=['a', 'b', 'c', 'd'])}\n",
    "df = pd.DataFrame(s)\n",
    "# chọn dòng theo label\n",
    "d = df.loc['e']\n",
    "print(d)"
   ]
  },
  {
   "cell_type": "code",
   "execution_count": 42,
   "metadata": {},
   "outputs": [
    {
     "name": "stdout",
     "output_type": "stream",
     "text": [
      "một    5.0\n",
      "hai    NaN\n",
      "ba     NaN\n",
      "Name: e, dtype: float64\n"
     ]
    }
   ],
   "source": [
    "s = {'một': pd.Series([1., 2., 3., 5.], index=['a', 'b', 'c', 'e']),'hai': pd.Series([1., 2., 3., 4.], index=['a', 'b', 'c', 'd']),\n",
    "'ba': pd.Series([9., -1.3, 3.5, 41.1], index=['a', 'b', 'c', 'd'])}\n",
    "df = pd.DataFrame(s)\n",
    "# chọn dòng theo vị trí nguyên\n",
    "d = df.iloc[4]\n",
    "print(d)"
   ]
  },
  {
   "cell_type": "code",
   "execution_count": null,
   "metadata": {},
   "outputs": [],
   "source": []
  },
  {
   "cell_type": "code",
   "execution_count": null,
   "metadata": {},
   "outputs": [
    {
     "name": "stdout",
     "output_type": "stream",
     "text": [
      "   một  hai    ba\n",
      "c  3.0  3.0   3.5\n",
      "d  NaN  4.0  41.1\n"
     ]
    }
   ],
   "source": [
    "s = {'một': pd.Series([1., 2., 3., 5.], index=['a', 'b', 'c', 'e']),'hai': pd.Series([1., 2., 3., 4.], index=['a', 'b', 'c', 'd']),\n",
    "'ba': pd.Series([9., -1.3, 3.5, 41.1], index=['a', 'b', 'c', 'd'])}\n",
    "df = pd.DataFrame(s)\n",
    "# cắt lấy ra từ dòng 3 đến dòng 4\n",
    "d = df[2:4]\n",
    "print(d)"
   ]
  },
  {
   "cell_type": "code",
   "execution_count": 7,
   "metadata": {},
   "outputs": [
    {
     "name": "stdout",
     "output_type": "stream",
     "text": [
      "          0         1         2         3\n",
      "2  0.693613  0.615805  0.232915  0.083934\n",
      "3  0.667935  0.915380  0.966904  0.940386\n"
     ]
    }
   ],
   "source": [
    "import numpy as np\n",
    "df=pd.DataFrame(np.random.rand(23,4))\n",
    "d=df[2:4]\n",
    "print(d)"
   ]
  }
 ],
 "metadata": {
  "kernelspec": {
   "display_name": "base",
   "language": "python",
   "name": "python3"
  },
  "language_info": {
   "codemirror_mode": {
    "name": "ipython",
    "version": 3
   },
   "file_extension": ".py",
   "mimetype": "text/x-python",
   "name": "python",
   "nbconvert_exporter": "python",
   "pygments_lexer": "ipython3",
   "version": "3.11.4"
  }
 },
 "nbformat": 4,
 "nbformat_minor": 2
}
